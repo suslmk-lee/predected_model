{
 "cells": [
  {
   "cell_type": "markdown",
   "metadata": {},
   "source": [
    "# 예측 모델 예제\n",
    "\n",
    "이 노트북은 예측 모델을 사용하는 기본적인 예제를 제공합니다."
   ]
  },
  {
   "cell_type": "code",
   "execution_count": null,
   "metadata": {},
   "source": [
    "import sys\n",
    "import os\n",
    "\n",
    "# 상위 디렉토리를 경로에 추가하여 src 모듈 import 가능하게 함\n",
    "sys.path.append(os.path.abspath(os.path.join(os.getcwd(), '..')))\n",
    "\n",
    "import numpy as np\n",
    "import pandas as pd\n",
    "import matplotlib.pyplot as plt\n",
    "from src.model import PredictionModel\n",
    "from src.generate_sample_data import generate_sample_data"
   ]
  },
  {
   "cell_type": "markdown",
   "metadata": {},
   "source": [
    "## 1. 샘플 데이터 생성"
   ]
  },
  {
   "cell_type": "code",
   "execution_count": null,
   "metadata": {},
   "source": [
    "# 샘플 데이터 생성\n",
    "data = generate_sample_data(n_samples=500, n_features=3, noise=0.2)\n",
    "data.head()"
   ]
  },
  {
   "cell_type": "markdown",
   "metadata": {},
   "source": [
    "## 2. 데이터 탐색"
   ]
  },
  {
   "cell_type": "code",
   "execution_count": null,
   "metadata": {},
   "source": [
    "# 데이터 기본 정보\n",
    "print(\"데이터 크기:\", data.shape)\n",
    "print(\"\\n기술 통계:\")\n",
    "data.describe()"
   ]
  },
  {
   "cell_type": "code",
   "execution_count": null,
   "metadata": {},
   "source": [
    "# 상관 관계 확인\n",
    "plt.figure(figsize=(10, 8))\n",
    "corr = data.corr()\n",
    "plt.imshow(corr, cmap='coolwarm', interpolation='none', aspect='auto')\n",
    "plt.colorbar()\n",
    "plt.xticks(range(len(corr.columns)), corr.columns, rotation=45)\n",
    "plt.yticks(range(len(corr.columns)), corr.columns)\n",
    "plt.title('변수 간 상관관계')\n",
    "plt.show()"
   ]
  },
  {
   "cell_type": "markdown",
   "metadata": {},
   "source": [
    "## 3. 모델 학습 및 평가"
   ]
  },
  {
   "cell_type": "code",
   "execution_count": null,
   "metadata": {},
   "source": [
    "# 예측 모델 인스턴스 생성\n",
    "model = PredictionModel()\n",
    "\n",
    "# 데이터 전처리\n",
    "model.preprocess_data(data, target_column='target', test_size=0.3)\n",
    "\n",
    "# 모델 학습\n",
    "model.train()\n",
    "\n",
    "# 모델 평가\n",
    "mse, r2 = model.evaluate()"
   ]
  },
  {
   "cell_type": "code",
   "execution_count": null,
   "metadata": {},
   "source": [
    "# 결과 시각화\n",
    "model.visualize_results()"
   ]
  },
  {
   "cell_type": "markdown",
   "metadata": {},
   "source": [
    "## 4. 새로운 데이터에 대한 예측"
   ]
  },
  {
   "cell_type": "code",
   "execution_count": null,
   "metadata": {},
   "source": [
    "# 새로운 데이터 생성\n",
    "new_data = pd.DataFrame({\n",
    "    'feature_1': [0.5, -0.2, 1.1],\n",
    "    'feature_2': [-0.3, 0.7, -0.8],\n",
    "    'feature_3': [1.2, -0.5, 0.3]\n",
    "})\n",
    "\n",
    "# 예측\n",
    "predictions = model.predict(new_data)\n",
    "print(\"예측 결과:\")\n",
    "for i, pred in enumerate(predictions):\n",
    "    print(f\"샘플 {i+1}: {pred:.4f}\")"
   ]
  },
  {
   "cell_type": "markdown",
   "metadata": {},
   "source": [
    "## 5. 모델 개선 방향\n",
    "\n",
    "1. 특성 선택 및 엔지니어링\n",
    "2. 하이퍼파라미터 튜닝\n",
    "3. 다양한 모델 시도 (Random Forest, Gradient Boosting 등)\n",
    "4. 교차 검증 적용"
   ]
  }
 ],
 "metadata": {
  "kernelspec": {
   "display_name": "Python 3",
   "language": "python",
   "name": "python3"
  },
  "language_info": {
   "codemirror_mode": {
    "name": "ipython",
    "version": 3
   },
   "file_extension": ".py",
   "mimetype": "text/x-python",
   "name": "python",
   "nbconvert_exporter": "python",
   "pygments_lexer": "ipython3",
   "version": "3.9.6"
  }
 },
 "nbformat": 4,
 "nbformat_minor": 4
}
